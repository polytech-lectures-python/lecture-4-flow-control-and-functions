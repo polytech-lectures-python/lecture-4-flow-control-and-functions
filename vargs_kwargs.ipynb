{
 "cells": [
  {
   "cell_type": "code",
   "execution_count": 30,
   "id": "be4bc832-61fb-4cb0-a534-81bc3a51b2e6",
   "metadata": {},
   "outputs": [],
   "source": [
    "def f(*vargs):\n",
    "    print(type(vargs[0]))\n",
    "    if type(vargs[0]) in (int, float):\n",
    "        result = 0\n",
    "    elif type(vargs[0]) == list:\n",
    "        result = []\n",
    "    else:\n",
    "        return\n",
    "    for x in vargs:\n",
    "        print(x)\n",
    "        result += x\n",
    "    return result"
   ]
  },
  {
   "cell_type": "code",
   "execution_count": 31,
   "id": "6514c4f0-ac15-4af7-91bc-e6cf72367a11",
   "metadata": {},
   "outputs": [
    {
     "name": "stdout",
     "output_type": "stream",
     "text": [
      "<class 'list'>\n",
      "[1, 2]\n",
      "[3, 4]\n"
     ]
    },
    {
     "data": {
      "text/plain": [
       "[1, 2, 3, 4]"
      ]
     },
     "execution_count": 31,
     "metadata": {},
     "output_type": "execute_result"
    }
   ],
   "source": [
    "f([1, 2], [3, 4])"
   ]
  },
  {
   "cell_type": "code",
   "execution_count": 32,
   "id": "9c023499-8569-460c-94e7-eb3721220ede",
   "metadata": {},
   "outputs": [
    {
     "name": "stdout",
     "output_type": "stream",
     "text": [
      "<class 'int'>\n",
      "1\n",
      "2\n",
      "3\n",
      "3.4\n"
     ]
    },
    {
     "data": {
      "text/plain": [
       "9.4"
      ]
     },
     "execution_count": 32,
     "metadata": {},
     "output_type": "execute_result"
    }
   ],
   "source": [
    "f(1, 2, 3, 3.4)"
   ]
  },
  {
   "cell_type": "code",
   "execution_count": 72,
   "id": "b19639dc-14fd-42bc-87b7-4d7e0365c129",
   "metadata": {},
   "outputs": [],
   "source": [
    "def f(*vargs, **kwargs):\n",
    "    print(vargs)\n",
    "    print(kwargs)\n",
    "    print(list(kwargs.values()))\n",
    "    return sum(vargs + tuple(kwargs.values()))"
   ]
  },
  {
   "cell_type": "code",
   "execution_count": 73,
   "id": "f6ccc225-1f38-40e0-be7b-f55106023362",
   "metadata": {},
   "outputs": [
    {
     "name": "stdout",
     "output_type": "stream",
     "text": [
      "(1, 2, 3)\n",
      "{'x': 4, 'y': 5}\n",
      "[4, 5]\n"
     ]
    },
    {
     "data": {
      "text/plain": [
       "15"
      ]
     },
     "execution_count": 73,
     "metadata": {},
     "output_type": "execute_result"
    }
   ],
   "source": [
    "f(1, 2, 3, x=4, y=5)"
   ]
  },
  {
   "cell_type": "code",
   "execution_count": 75,
   "id": "fd12b62f-82bb-464b-ad88-0b483c2ee6d1",
   "metadata": {},
   "outputs": [
    {
     "ename": "SyntaxError",
     "evalue": "multiple starred names in sequence pattern (2436413972.py, line 2)",
     "output_type": "error",
     "traceback": [
      "\u001b[0;36m  Cell \u001b[0;32mIn[75], line 2\u001b[0;36m\u001b[0m\n\u001b[0;31m    case (x, *y, *w, z):\u001b[0m\n\u001b[0m         ^\u001b[0m\n\u001b[0;31mSyntaxError\u001b[0m\u001b[0;31m:\u001b[0m multiple starred names in sequence pattern\n"
     ]
    }
   ],
   "source": [
    "match (1, 2, 3, 4, 5):\n",
    "  case (x, *y, *w, z):\n",
    "      print(x, y, z)"
   ]
  },
  {
   "cell_type": "code",
   "execution_count": null,
   "id": "378f559c-43ae-4717-886a-50d5f7579fe4",
   "metadata": {},
   "outputs": [],
   "source": []
  }
 ],
 "metadata": {
  "kernelspec": {
   "display_name": "Python 3 (ipykernel)",
   "language": "python",
   "name": "python3"
  },
  "language_info": {
   "codemirror_mode": {
    "name": "ipython",
    "version": 3
   },
   "file_extension": ".py",
   "mimetype": "text/x-python",
   "name": "python",
   "nbconvert_exporter": "python",
   "pygments_lexer": "ipython3",
   "version": "3.10.8"
  }
 },
 "nbformat": 4,
 "nbformat_minor": 5
}
